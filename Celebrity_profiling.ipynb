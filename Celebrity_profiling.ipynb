{
 "cells": [
  {
   "cell_type": "code",
   "execution_count": 5,
   "id": "72f73daa-89dc-488e-9f61-1dff22e50e6d",
   "metadata": {},
   "outputs": [
    {
     "name": "stdout",
     "output_type": "stream",
     "text": [
      "Collecting ndjson\n",
      "  Downloading ndjson-0.3.1-py2.py3-none-any.whl.metadata (3.2 kB)\n",
      "Downloading ndjson-0.3.1-py2.py3-none-any.whl (5.3 kB)\n",
      "Installing collected packages: ndjson\n",
      "Successfully installed ndjson-0.3.1\n",
      "Note: you may need to restart the kernel to use updated packages.\n"
     ]
    }
   ],
   "source": [
    "pip install ndjson"
   ]
  },
  {
   "cell_type": "code",
   "execution_count": 13,
   "id": "549d8d57-a273-4756-98fa-cd1e72234343",
   "metadata": {},
   "outputs": [],
   "source": [
    "import pandas as pd\n",
    "import json\n",
    "from tqdm.notebook import tqdm\n",
    "\n",
    "def load_data(file_path, num_lines=None):\n",
    "    data = []\n",
    "    with open(file_path, 'r', encoding='utf-8') as file:\n",
    "        if num_lines is None:\n",
    "            lines = file.readlines()\n",
    "            num_lines = len(lines)\n",
    "            for line in tqdm(lines, desc=\"Loading data\", unit=\" lines\"):\n",
    "                data.append(json.loads(line))\n",
    "        else:\n",
    "            for _ in tqdm(range(num_lines), desc=\"Loading data\", unit=\" lines\"):\n",
    "                line = file.readline()\n",
    "                if not line:\n",
    "                    break\n",
    "                data.append(json.loads(line))\n",
    "  \n",
    "    return pd.DataFrame(data)"
   ]
  },
  {
   "cell_type": "code",
   "execution_count": 14,
   "id": "b12cc742-829c-431a-a66b-c757b79ef269",
   "metadata": {},
   "outputs": [
    {
     "data": {
      "application/vnd.jupyter.widget-view+json": {
       "model_id": "23cb937554a543059891cc5f222ab255",
       "version_major": 2,
       "version_minor": 0
      },
      "text/plain": [
       "Loading data:   0%|          | 0/33836 [00:00<?, ? lines/s]"
      ]
     },
     "metadata": {},
     "output_type": "display_data"
    },
    {
     "data": {
      "application/vnd.jupyter.widget-view+json": {
       "model_id": "3e3968c5a17b44c39223f174af831518",
       "version_major": 2,
       "version_minor": 0
      },
      "text/plain": [
       "Loading data:   0%|          | 0/33836 [00:00<?, ? lines/s]"
      ]
     },
     "metadata": {},
     "output_type": "display_data"
    }
   ],
   "source": [
    "labels_df=load_data(\"labels.ndjson\")\n",
    "\n",
    "feeds_df=load_data(\"feeds.ndjson\",33836)\n"
   ]
  },
  {
   "cell_type": "code",
   "execution_count": 15,
   "id": "be0106a4-d117-480c-a2aa-82c0f2ea787c",
   "metadata": {},
   "outputs": [
    {
     "name": "stdout",
     "output_type": "stream",
     "text": [
      "      occupation     id  gender  fame  birthyear\n",
      "0      performer  31448    male  star       1943\n",
      "1       politics  25082    male  star       1961\n",
      "2       politics  15880    male  star       1960\n",
      "3        creator   8821  female  star       1971\n",
      "4         sports  14515    male  star       1983\n",
      "...          ...    ...     ...   ...        ...\n",
      "33831    creator  42602    male  star       1963\n",
      "33832     sports  25170  female  star       1968\n",
      "33833     sports  43768  female  star       1971\n",
      "33834   politics  30338    male  star       1957\n",
      "33835  performer  37017    male  star       1975\n",
      "\n",
      "[33836 rows x 5 columns]\n",
      "                                                    text     id\n",
      "0      [Back at it with @americanidol looking for...h...  22704\n",
      "1      [The last presidential election turned on fewe...  46305\n",
      "2      [Angels 😇 \\n@RobbieWilliams\\nhttps://t.co/A6rx...  30260\n",
      "3      [Listen to “Shallow”, “Always Remember Us This...   4874\n",
      "4      [So happy for my island! Vote for Madeira, for...  41392\n",
      "...                                                  ...    ...\n",
      "33831                         [screaming into the void?]  23721\n",
      "33832  [Skirt Alert on the very windy day ladies, Don...  25488\n",
      "33833  [What December car sales tell us about 2014. h...  33980\n",
      "33834  [Central Florida Friends check out my #footbal...  28295\n",
      "33835  [Throwback Thursday vs. Terek Grozny #Lokomoti...   3531\n",
      "\n",
      "[33836 rows x 2 columns]\n"
     ]
    }
   ],
   "source": [
    "print(labels_df)\n",
    "print(feeds_df)"
   ]
  },
  {
   "cell_type": "code",
   "execution_count": 16,
   "id": "c9fe1d9a-be5b-4a2e-8996-8f3d534106dc",
   "metadata": {},
   "outputs": [],
   "source": [
    "labels_df.set_index('id', inplace=True)\n",
    "labels_df.sort_index(inplace=True)\n",
    "\n",
    "feeds_df.set_index('id', inplace=True)\n",
    "feeds_df.sort_index(inplace=True)\n",
    "\n"
   ]
  },
  {
   "cell_type": "markdown",
   "id": "a19f9ba6-b463-4f52-95fc-e1934bacc90e",
   "metadata": {},
   "source": [
    "# Filtering datasets"
   ]
  },
  {
   "cell_type": "code",
   "execution_count": 17,
   "id": "49b91f91-384d-4b15-b964-e4de019bd5bb",
   "metadata": {},
   "outputs": [
    {
     "name": "stdout",
     "output_type": "stream",
     "text": [
      "max length of 'text': 3000\n",
      "min length of 'text': 1\n"
     ]
    }
   ],
   "source": [
    "\n",
    "max_length = feeds_df['text'].apply(len).max()\n",
    "min_length = feeds_df['text'].apply(len).min()\n",
    "\n",
    "print(\"max length of 'text':\", max_length)\n",
    "print(\"min length of 'text':\", min_length)"
   ]
  },
  {
   "cell_type": "markdown",
   "id": "6843f6ec-51e1-40b8-9749-f08784e30a6c",
   "metadata": {},
   "source": [
    "### YOU CAN EXPERIMENT WITH THE AMOUNT OF TWEETS"
   ]
  },
  {
   "cell_type": "code",
   "execution_count": 18,
   "id": "93c4841a-a88e-4d3b-a1c7-bc1646c46118",
   "metadata": {},
   "outputs": [],
   "source": [
    "#filter users that have at least 150 tweets and select first 150 tweets to work with\n",
    "tweets_num=150\n",
    "feeds_df= feeds_df[feeds_df['text'].apply(len) > tweets_num]\n",
    "feeds_df['text'] = feeds_df['text'].apply(lambda x: x[:tweets_num])\n"
   ]
  },
  {
   "cell_type": "code",
   "execution_count": 19,
   "id": "67da8acf-60b5-49f2-aa89-b654aae14e4c",
   "metadata": {},
   "outputs": [
    {
     "name": "stdout",
     "output_type": "stream",
     "text": [
      "max length of 'text': 150\n",
      "min length of 'text': 150\n"
     ]
    }
   ],
   "source": [
    "#now we have rows with only 150 tweets in 'text' field\n",
    "max_length = feeds_df['text'].apply(len).max()\n",
    "min_length = feeds_df['text'].apply(len).min()\n",
    "\n",
    "print(\"max length of 'text':\", max_length)\n",
    "print(\"min length of 'text':\", min_length)"
   ]
  },
  {
   "cell_type": "code",
   "execution_count": 20,
   "id": "624902a6-534a-4662-9ff4-763ac960a7c7",
   "metadata": {
    "scrolled": true
   },
   "outputs": [],
   "source": [
    "#merge dataframes by id to get a single dataframe\n",
    "merged_df = pd.merge(labels_df, feeds_df, on='id', how='inner')\n"
   ]
  },
  {
   "cell_type": "code",
   "execution_count": 21,
   "id": "c41cc0ba-2ce8-4eb7-8f7c-ee45a1457ff3",
   "metadata": {},
   "outputs": [],
   "source": [
    "del feeds_df\n",
    "del labels_df"
   ]
  },
  {
   "cell_type": "code",
   "execution_count": 22,
   "id": "758b6a6c-574f-472a-80f4-224b7424eca7",
   "metadata": {},
   "outputs": [
    {
     "data": {
      "text/plain": [
       "occupation\n",
       "sports          12475\n",
       "performer        9571\n",
       "creator          5280\n",
       "politics         2754\n",
       "science           785\n",
       "manager           717\n",
       "professional      509\n",
       "religious          32\n",
       "Name: count, dtype: int64"
      ]
     },
     "execution_count": 22,
     "metadata": {},
     "output_type": "execute_result"
    }
   ],
   "source": [
    "merged_df['occupation'].value_counts()"
   ]
  },
  {
   "cell_type": "markdown",
   "id": "5aadf97e-ee58-427b-ab14-72ed7f76aca9",
   "metadata": {},
   "source": [
    "### due to the fact that the difference between some categories is large, we will choose only a few that have the most data\n"
   ]
  },
  {
   "cell_type": "code",
   "execution_count": 23,
   "id": "d57d9ee9-c81c-4ac0-8e27-9e21cb9f7421",
   "metadata": {},
   "outputs": [
    {
     "data": {
      "text/plain": [
       "occupation\n",
       "sports       12475\n",
       "performer     9571\n",
       "creator       5280\n",
       "politics      2754\n",
       "Name: count, dtype: int64"
      ]
     },
     "execution_count": 23,
     "metadata": {},
     "output_type": "execute_result"
    }
   ],
   "source": [
    "merged_df = merged_df.loc[~((merged_df['occupation'] == 'religious')\n",
    "                            | (merged_df['occupation'] == 'science') \n",
    "                            | (merged_df['occupation'] == 'manager') \n",
    "                            | (merged_df['occupation'] == 'professional'))]\n",
    "merged_df['occupation'].value_counts()\n"
   ]
  },
  {
   "cell_type": "code",
   "execution_count": null,
   "id": "7e639563-306d-4721-846d-eecb0f15d094",
   "metadata": {},
   "outputs": [],
   "source": [
    "#as we did with numbers of tweets, we will select the first 2754 rows of each occupation to have a balanced dataset\n",
    "sampled_df = merged_df.groupby('occupation', group_keys=False).apply(lambda x: x.sample(2754)).reset_index(drop=True)"
   ]
  },
  {
   "cell_type": "code",
   "execution_count": 38,
   "id": "ae73a1e5-64e3-4a09-893b-428c7bc92c05",
   "metadata": {},
   "outputs": [
    {
     "data": {
      "text/html": [
       "<div>\n",
       "<style scoped>\n",
       "    .dataframe tbody tr th:only-of-type {\n",
       "        vertical-align: middle;\n",
       "    }\n",
       "\n",
       "    .dataframe tbody tr th {\n",
       "        vertical-align: top;\n",
       "    }\n",
       "\n",
       "    .dataframe thead th {\n",
       "        text-align: right;\n",
       "    }\n",
       "</style>\n",
       "<table border=\"1\" class=\"dataframe\">\n",
       "  <thead>\n",
       "    <tr style=\"text-align: right;\">\n",
       "      <th></th>\n",
       "      <th>occupation</th>\n",
       "      <th>gender</th>\n",
       "      <th>fame</th>\n",
       "      <th>birthyear</th>\n",
       "      <th>text</th>\n",
       "    </tr>\n",
       "  </thead>\n",
       "  <tbody>\n",
       "    <tr>\n",
       "      <th>0</th>\n",
       "      <td>creator</td>\n",
       "      <td>male</td>\n",
       "      <td>star</td>\n",
       "      <td>1972</td>\n",
       "      <td>[@jsnell Purdy, RT @petridishes: look at least...</td>\n",
       "    </tr>\n",
       "    <tr>\n",
       "      <th>1</th>\n",
       "      <td>creator</td>\n",
       "      <td>female</td>\n",
       "      <td>star</td>\n",
       "      <td>1975</td>\n",
       "      <td>[@stephanielaing I'm exhausted. Watching @CNN ...</td>\n",
       "    </tr>\n",
       "    <tr>\n",
       "      <th>2</th>\n",
       "      <td>creator</td>\n",
       "      <td>male</td>\n",
       "      <td>star</td>\n",
       "      <td>1948</td>\n",
       "      <td>[When the mood strikes! #TadashiShoji #DarkLip...</td>\n",
       "    </tr>\n",
       "    <tr>\n",
       "      <th>3</th>\n",
       "      <td>creator</td>\n",
       "      <td>male</td>\n",
       "      <td>star</td>\n",
       "      <td>1961</td>\n",
       "      <td>[@A_D_Morgan Mate they have great spirit in th...</td>\n",
       "    </tr>\n",
       "    <tr>\n",
       "      <th>4</th>\n",
       "      <td>creator</td>\n",
       "      <td>male</td>\n",
       "      <td>star</td>\n",
       "      <td>1964</td>\n",
       "      <td>[Fed up of the bile that Twitter seems to be f...</td>\n",
       "    </tr>\n",
       "    <tr>\n",
       "      <th>...</th>\n",
       "      <td>...</td>\n",
       "      <td>...</td>\n",
       "      <td>...</td>\n",
       "      <td>...</td>\n",
       "      <td>...</td>\n",
       "    </tr>\n",
       "    <tr>\n",
       "      <th>11011</th>\n",
       "      <td>sports</td>\n",
       "      <td>male</td>\n",
       "      <td>star</td>\n",
       "      <td>1990</td>\n",
       "      <td>[RT @frankginda05: Lord, THANK YOU and thank y...</td>\n",
       "    </tr>\n",
       "    <tr>\n",
       "      <th>11012</th>\n",
       "      <td>sports</td>\n",
       "      <td>male</td>\n",
       "      <td>star</td>\n",
       "      <td>1992</td>\n",
       "      <td>[@jonathonrogers Ask, RT @jameshindley23: That...</td>\n",
       "    </tr>\n",
       "    <tr>\n",
       "      <th>11013</th>\n",
       "      <td>sports</td>\n",
       "      <td>male</td>\n",
       "      <td>star</td>\n",
       "      <td>1991</td>\n",
       "      <td>[RT @COPA90US: Semifinal showdowns are set 🔒\\n...</td>\n",
       "    </tr>\n",
       "    <tr>\n",
       "      <th>11014</th>\n",
       "      <td>sports</td>\n",
       "      <td>female</td>\n",
       "      <td>star</td>\n",
       "      <td>1986</td>\n",
       "      <td>[RT @TrackGuyUSA: Thank you, @trackjenny, for ...</td>\n",
       "    </tr>\n",
       "    <tr>\n",
       "      <th>11015</th>\n",
       "      <td>sports</td>\n",
       "      <td>male</td>\n",
       "      <td>star</td>\n",
       "      <td>1993</td>\n",
       "      <td>[@NathanPeacey @jamiepaterson12 https://t.co/Z...</td>\n",
       "    </tr>\n",
       "  </tbody>\n",
       "</table>\n",
       "<p>11016 rows × 5 columns</p>\n",
       "</div>"
      ],
      "text/plain": [
       "      occupation  gender  fame  birthyear  \\\n",
       "0        creator    male  star       1972   \n",
       "1        creator  female  star       1975   \n",
       "2        creator    male  star       1948   \n",
       "3        creator    male  star       1961   \n",
       "4        creator    male  star       1964   \n",
       "...          ...     ...   ...        ...   \n",
       "11011     sports    male  star       1990   \n",
       "11012     sports    male  star       1992   \n",
       "11013     sports    male  star       1991   \n",
       "11014     sports  female  star       1986   \n",
       "11015     sports    male  star       1993   \n",
       "\n",
       "                                                    text  \n",
       "0      [@jsnell Purdy, RT @petridishes: look at least...  \n",
       "1      [@stephanielaing I'm exhausted. Watching @CNN ...  \n",
       "2      [When the mood strikes! #TadashiShoji #DarkLip...  \n",
       "3      [@A_D_Morgan Mate they have great spirit in th...  \n",
       "4      [Fed up of the bile that Twitter seems to be f...  \n",
       "...                                                  ...  \n",
       "11011  [RT @frankginda05: Lord, THANK YOU and thank y...  \n",
       "11012  [@jonathonrogers Ask, RT @jameshindley23: That...  \n",
       "11013  [RT @COPA90US: Semifinal showdowns are set 🔒\\n...  \n",
       "11014  [RT @TrackGuyUSA: Thank you, @trackjenny, for ...  \n",
       "11015  [@NathanPeacey @jamiepaterson12 https://t.co/Z...  \n",
       "\n",
       "[11016 rows x 5 columns]"
      ]
     },
     "execution_count": 38,
     "metadata": {},
     "output_type": "execute_result"
    }
   ],
   "source": [
    "sampled_df"
   ]
  },
  {
   "cell_type": "code",
   "execution_count": 39,
   "id": "47caffb7-1e72-48b8-9850-fd38b24211ea",
   "metadata": {},
   "outputs": [],
   "source": [
    "occupations=list(set(sampled_df['occupation']))"
   ]
  },
  {
   "cell_type": "code",
   "execution_count": 40,
   "id": "94b54990-7729-4bd3-a7d3-2ca8b6234f41",
   "metadata": {},
   "outputs": [
    {
     "data": {
      "text/plain": [
       "(30080, 5)"
      ]
     },
     "execution_count": 40,
     "metadata": {},
     "output_type": "execute_result"
    }
   ],
   "source": [
    "merged_df.shape"
   ]
  },
  {
   "cell_type": "code",
   "execution_count": 41,
   "id": "22d5b5fd-ba88-4a4f-8e74-3c8f18d972ea",
   "metadata": {},
   "outputs": [
    {
     "data": {
      "text/plain": [
       "['performer', 'politics', 'creator', 'sports']"
      ]
     },
     "execution_count": 41,
     "metadata": {},
     "output_type": "execute_result"
    }
   ],
   "source": [
    "occupations"
   ]
  },
  {
   "cell_type": "markdown",
   "id": "88973f3e-b3bb-48da-9dfd-7863f75f7588",
   "metadata": {},
   "source": [
    "# Preprocessing"
   ]
  },
  {
   "cell_type": "code",
   "execution_count": 42,
   "id": "b98e1c8b-c585-428e-a7dc-de9cdafe6a17",
   "metadata": {},
   "outputs": [],
   "source": [
    "import string\n",
    "import re\n",
    "from nltk.stem import WordNetLemmatizer\n",
    "from nltk.corpus import stopwords\n",
    "from string import punctuation\n",
    "import functools\n",
    "\n",
    "# Initialize WordNet Lemmatizer\n",
    "lemmatizer = WordNetLemmatizer()\n",
    "\n",
    "# Define English stopwords\n",
    "english_stopwords = set(stopwords.words('english'))\n",
    "\n",
    "def remove_punctuation(text):\n",
    "    return \"\".join([ch if ch not in string.punctuation else ' ' for ch in text])\n",
    "\n",
    "def remove_numbers(text):\n",
    "    return ''.join([i if not i.isdigit() else ' ' for i in text])\n",
    "\n",
    "def remove_multiple_spaces(text):\n",
    "    return re.sub(r'\\s+', ' ', text)\n",
    "\n",
    "import re\n",
    "\n",
    "def remove_links_tags_emojis(text):\n",
    "    # exclude \n",
    "    text = re.sub(r'http\\S+', '', text)\n",
    "    \n",
    "    # exclude tags\n",
    "    text = re.sub(r'rt @\\w+:', '', text)\n",
    "    text = re.sub(r'#+', '', text)\n",
    "\n",
    "    # exclude emojis\n",
    "    emoji_pattern = re.compile(\"[\"\n",
    "                               u\"\\U0001F600-\\U0001F64F\" # emojis\n",
    "                               u\"\\U0001F300-\\U0001F5FF\" # symbols and code points\n",
    "                               u\"\\U0001F680-\\U0001F6FF\" # transport icons and symbols\n",
    "                               u\"\\U0001F1E0-\\U0001F1FF\" # flags (iOS)\n",
    "                               u\"\\U00002500-\\U00002BEF\" # additional Chinese characters\n",
    "                               u\"\\U00002702-\\U000027B0\"\n",
    "                               u\"\\U00002702-\\U000027B0\"\n",
    "                               u\"\\U000024C2-\\U0001F251\"\n",
    "                               u\"\\U0001f926-\\U0001f937\"\n",
    "                               u\"\\U00010000-\\U0010ffff\"\n",
    "                               u\"\\u2640-\\u2642\"\n",
    "                               u\"\\u2600-\\u2B55\"\n",
    "                               u\"\\u200d\"\n",
    "                               u\"\\u23cf\"\n",
    "                               u\"\\u23e9\"\n",
    "                               u\"\\u231a\"\n",
    "                               u\"\\ufe0f\"  \n",
    "                               u\"\\u3030\"\n",
    "                               \"]+\", flags=re.UNICODE)\n",
    "    text = emoji_pattern.sub(r'', text)\n",
    "    \n",
    "    return text\n",
    "\n"
   ]
  },
  {
   "cell_type": "code",
   "execution_count": 44,
   "id": "da46eed5-ff24-4234-be5e-9025f196e566",
   "metadata": {},
   "outputs": [
    {
     "data": {
      "application/vnd.jupyter.widget-view+json": {
       "model_id": "522e1ad557534eaa95d274517da01846",
       "version_major": 2,
       "version_minor": 0
      },
      "text/plain": [
       "  0%|          | 0/11016 [00:00<?, ?it/s]"
      ]
     },
     "metadata": {},
     "output_type": "display_data"
    }
   ],
   "source": [
    "prep_text = []\n",
    "for text_list in tqdm(sampled_df['text']):\n",
    "    cleaned_texts = []\n",
    "    for text in text_list:\n",
    "        cleaned_text = remove_multiple_spaces(remove_numbers(remove_punctuation(remove_links_tags_emojis(text.lower()))))\n",
    "        cleaned_texts.append(cleaned_text)\n",
    "    prep_text.append(cleaned_texts)\n"
   ]
  },
  {
   "cell_type": "code",
   "execution_count": 46,
   "id": "b32c3801-3834-4d18-9a36-2835ef230c53",
   "metadata": {},
   "outputs": [],
   "source": [
    "sampled_df['text']=prep_text\n"
   ]
  },
  {
   "cell_type": "code",
   "execution_count": 47,
   "id": "20070e8e-3a4d-4836-a86f-43e8270f7262",
   "metadata": {},
   "outputs": [],
   "source": [
    "from nltk.stem import SnowballStemmer\n",
    "from nltk.corpus import stopwords\n",
    "from nltk.tokenize import word_tokenize\n",
    "\n",
    "# Initialize SnowballStemmer for English\n",
    "stemmer = SnowballStemmer(\"english\")\n",
    "\n",
    "#Stemming is a text preprocessing technique used in natural language processing (NLP) to reduce words to their root or base form.\n"
   ]
  },
  {
   "cell_type": "code",
   "execution_count": 48,
   "id": "f387b05b-d324-4ba2-9ef6-004d28370dae",
   "metadata": {},
   "outputs": [
    {
     "data": {
      "application/vnd.jupyter.widget-view+json": {
       "model_id": "2d67f3afcaef492e82c47ad8ced649fd",
       "version_major": 2,
       "version_minor": 0
      },
      "text/plain": [
       "  0%|          | 0/11016 [00:00<?, ?it/s]"
      ]
     },
     "metadata": {},
     "output_type": "display_data"
    }
   ],
   "source": [
    "\n",
    "def preprocess_text(text):\n",
    "    stemmed_tokens = [stemmer.stem(token) for token in text.split() if token.lower() not in english_stopwords]\n",
    "    processed_text = \" \".join(stemmed_tokens)\n",
    "    \n",
    "    return processed_text\n",
    "\n",
    "stemmed_texts_list = []\n",
    "for text_list in tqdm(sampled_df['text']):\n",
    "    stemmed_text = []\n",
    "    for text in text_list:\n",
    "            processed_text = preprocess_text(text)\n",
    "            stemmed_text.append(processed_text)\n",
    "    stemmed_texts_list.append(stemmed_text)\n",
    "\n",
    "\n",
    "sampled_df['text'] = stemmed_texts_list"
   ]
  },
  {
   "cell_type": "code",
   "execution_count": 19,
   "id": "0c09b418-5604-4926-a2bd-b33bdc9d8f2e",
   "metadata": {},
   "outputs": [
    {
     "data": {
      "text/html": [
       "<div>\n",
       "<style scoped>\n",
       "    .dataframe tbody tr th:only-of-type {\n",
       "        vertical-align: middle;\n",
       "    }\n",
       "\n",
       "    .dataframe tbody tr th {\n",
       "        vertical-align: top;\n",
       "    }\n",
       "\n",
       "    .dataframe thead th {\n",
       "        text-align: right;\n",
       "    }\n",
       "</style>\n",
       "<table border=\"1\" class=\"dataframe\">\n",
       "  <thead>\n",
       "    <tr style=\"text-align: right;\">\n",
       "      <th></th>\n",
       "      <th>occupation</th>\n",
       "      <th>gender</th>\n",
       "      <th>fame</th>\n",
       "      <th>birthyear</th>\n",
       "      <th>text</th>\n",
       "    </tr>\n",
       "  </thead>\n",
       "  <tbody>\n",
       "    <tr>\n",
       "      <th>0</th>\n",
       "      <td>creator</td>\n",
       "      <td>male</td>\n",
       "      <td>star</td>\n",
       "      <td>1966</td>\n",
       "      <td>[oh guess funniest trevor twitter mellamotrevo...</td>\n",
       "    </tr>\n",
       "    <tr>\n",
       "      <th>1</th>\n",
       "      <td>creator</td>\n",
       "      <td>male</td>\n",
       "      <td>star</td>\n",
       "      <td>1977</td>\n",
       "      <td>[pour deviantdiscorama de ce jeudi au rexclub ...</td>\n",
       "    </tr>\n",
       "    <tr>\n",
       "      <th>2</th>\n",
       "      <td>creator</td>\n",
       "      <td>male</td>\n",
       "      <td>star</td>\n",
       "      <td>2000</td>\n",
       "      <td>[read great sisario book doolittl tho much rec...</td>\n",
       "    </tr>\n",
       "    <tr>\n",
       "      <th>3</th>\n",
       "      <td>creator</td>\n",
       "      <td>male</td>\n",
       "      <td>star</td>\n",
       "      <td>1972</td>\n",
       "      <td>[wrong titl great news cast grow, excit brilli...</td>\n",
       "    </tr>\n",
       "    <tr>\n",
       "      <th>4</th>\n",
       "      <td>creator</td>\n",
       "      <td>female</td>\n",
       "      <td>superstar</td>\n",
       "      <td>1970</td>\n",
       "      <td>[thank everyon came support vrtmuseum launch d...</td>\n",
       "    </tr>\n",
       "    <tr>\n",
       "      <th>...</th>\n",
       "      <td>...</td>\n",
       "      <td>...</td>\n",
       "      <td>...</td>\n",
       "      <td>...</td>\n",
       "      <td>...</td>\n",
       "    </tr>\n",
       "    <tr>\n",
       "      <th>11011</th>\n",
       "      <td>sports</td>\n",
       "      <td>male</td>\n",
       "      <td>star</td>\n",
       "      <td>1991</td>\n",
       "      <td>[book million vote final winner america best l...</td>\n",
       "    </tr>\n",
       "    <tr>\n",
       "      <th>11012</th>\n",
       "      <td>sports</td>\n",
       "      <td>female</td>\n",
       "      <td>star</td>\n",
       "      <td>2000</td>\n",
       "      <td>[oh might break snow shovel scrape hail sidewa...</td>\n",
       "    </tr>\n",
       "    <tr>\n",
       "      <th>11013</th>\n",
       "      <td>sports</td>\n",
       "      <td>male</td>\n",
       "      <td>star</td>\n",
       "      <td>1987</td>\n",
       "      <td>[creativ maxim live moment, came year ago trai...</td>\n",
       "    </tr>\n",
       "    <tr>\n",
       "      <th>11014</th>\n",
       "      <td>sports</td>\n",
       "      <td>male</td>\n",
       "      <td>star</td>\n",
       "      <td>1989</td>\n",
       "      <td>[msl ticket go sale friday morn start r match,...</td>\n",
       "    </tr>\n",
       "    <tr>\n",
       "      <th>11015</th>\n",
       "      <td>sports</td>\n",
       "      <td>male</td>\n",
       "      <td>star</td>\n",
       "      <td>1988</td>\n",
       "      <td>[, oh hittin hittin, boy samihbeydoun great se...</td>\n",
       "    </tr>\n",
       "  </tbody>\n",
       "</table>\n",
       "<p>11016 rows × 5 columns</p>\n",
       "</div>"
      ],
      "text/plain": [
       "      occupation  gender       fame  birthyear  \\\n",
       "0        creator    male       star       1966   \n",
       "1        creator    male       star       1977   \n",
       "2        creator    male       star       2000   \n",
       "3        creator    male       star       1972   \n",
       "4        creator  female  superstar       1970   \n",
       "...          ...     ...        ...        ...   \n",
       "11011     sports    male       star       1991   \n",
       "11012     sports  female       star       2000   \n",
       "11013     sports    male       star       1987   \n",
       "11014     sports    male       star       1989   \n",
       "11015     sports    male       star       1988   \n",
       "\n",
       "                                                    text  \n",
       "0      [oh guess funniest trevor twitter mellamotrevo...  \n",
       "1      [pour deviantdiscorama de ce jeudi au rexclub ...  \n",
       "2      [read great sisario book doolittl tho much rec...  \n",
       "3      [wrong titl great news cast grow, excit brilli...  \n",
       "4      [thank everyon came support vrtmuseum launch d...  \n",
       "...                                                  ...  \n",
       "11011  [book million vote final winner america best l...  \n",
       "11012  [oh might break snow shovel scrape hail sidewa...  \n",
       "11013  [creativ maxim live moment, came year ago trai...  \n",
       "11014  [msl ticket go sale friday morn start r match,...  \n",
       "11015  [, oh hittin hittin, boy samihbeydoun great se...  \n",
       "\n",
       "[11016 rows x 5 columns]"
      ]
     },
     "execution_count": 19,
     "metadata": {},
     "output_type": "execute_result"
    }
   ],
   "source": [
    "sampled_df\n"
   ]
  },
  {
   "cell_type": "markdown",
   "id": "2f1dfc25-eb83-47e5-942b-bb451e74f60a",
   "metadata": {},
   "source": [
    "# MODEL SELECTION"
   ]
  },
  {
   "cell_type": "code",
   "execution_count": 49,
   "id": "912db187-aa4e-4fb8-90cb-e2e855ce1694",
   "metadata": {},
   "outputs": [],
   "source": [
    "#join all the tweets for each row into a single text\n",
    "sampled_df['text'] = sampled_df['text'].apply(lambda lst: ' '.join(lst))"
   ]
  },
  {
   "cell_type": "code",
   "execution_count": 138,
   "id": "9ad1c2ed-d035-4a2b-92cc-31ec4f6b94c6",
   "metadata": {},
   "outputs": [],
   "source": [
    "#shuffle the rows\n",
    "sampled_df = sampled_df.sample(frac=1, random_state=32)"
   ]
  },
  {
   "cell_type": "code",
   "execution_count": null,
   "id": "437af493-34df-4e9c-9eed-0043cd7e45e4",
   "metadata": {},
   "outputs": [],
   "source": [
    "sampled_df.to_csv('save.csv', index=False)\n",
    "#save the processed dataset"
   ]
  },
  {
   "cell_type": "code",
   "execution_count": 139,
   "id": "aab17c83-a367-473a-9856-aa739c2da459",
   "metadata": {},
   "outputs": [],
   "source": [
    "#define our X and y for model training\n",
    "X=sampled_df['text']\n",
    "y=sampled_df['occupation']"
   ]
  },
  {
   "cell_type": "code",
   "execution_count": 141,
   "id": "49cbc749-6f10-4210-8dd9-0039f891d70b",
   "metadata": {},
   "outputs": [],
   "source": [
    "from sklearn.model_selection import train_test_split\n",
    "\n",
    "X_train,X_test,y_train,y_test=train_test_split(X,y,test_size=0.33,random_state=42) \n",
    "\n"
   ]
  },
  {
   "cell_type": "code",
   "execution_count": 69,
   "id": "49005d1d-78a9-49b5-a5cc-bff1923ad85f",
   "metadata": {},
   "outputs": [
    {
     "name": "stdout",
     "output_type": "stream",
     "text": [
      "Multinomial Naive Bayes: mean precision = 0.685821017866249, standard deviation = 0.01553548097210322\n",
      "Complement Naive Bayes: mean precision = 0.7018881198959017, standard deviation = 0.009144893833819197\n",
      "K-Nearest Neighbors: mean precision = 0.6456969666013924, standard deviation = 0.010081947670131918\n",
      "Decision Tree: mean precision = 0.5761626819721993, standard deviation = 0.008739060784651316\n",
      "Random Forest: mean precision = 0.7133263665369693, standard deviation = 0.010534568902344566\n",
      "Logistic Regression: mean precision = 0.7549932734853397, standard deviation = 0.013140722538521674\n"
     ]
    }
   ],
   "source": [
    "from sklearn.pipeline import Pipeline\n",
    "from sklearn.feature_extraction.text import CountVectorizer, TfidfTransformer\n",
    "from sklearn.naive_bayes import MultinomialNB\n",
    "from sklearn.ensemble import RandomForestClassifier\n",
    "from sklearn.model_selection import cross_val_score\n",
    "from sklearn.naive_bayes import GaussianNB, MultinomialNB, ComplementNB\n",
    "from sklearn.neighbors import KNeighborsClassifier\n",
    "from sklearn.tree import DecisionTreeClassifier\n",
    "from sklearn.linear_model import LogisticRegression\n",
    "import numpy as np \n",
    "\n",
    "classifiers = [\n",
    "    ('Multinomial Naive Bayes', MultinomialNB()),\n",
    "    ('Complement Naive Bayes', ComplementNB()),\n",
    "    ('K-Nearest Neighbors', KNeighborsClassifier()),\n",
    "    ('Decision Tree', DecisionTreeClassifier()),\n",
    "    ('Random Forest', RandomForestClassifier()),\n",
    "    ('Logistic Regression', LogisticRegression()),\n",
    "]\n",
    "\n",
    "pipeline = Pipeline([\n",
    "    ('vect', CountVectorizer()),\n",
    "    ('tfidf', TfidfTransformer()),\n",
    "    ('clf', None)  \n",
    "])\n",
    "\n",
    "for name, classifier in classifiers:\n",
    "    pipeline.set_params(clf=classifier) \n",
    "    scores = cross_val_score(pipeline, X, y, cv=5) \n",
    "    print(f\"{name}: mean precision = {np.mean(scores)}, standard deviation = {np.std(scores)}\")\n"
   ]
  },
  {
   "cell_type": "code",
   "execution_count": 142,
   "id": "edce8ee6-b8ca-4f16-987f-2123fb4dd7a1",
   "metadata": {},
   "outputs": [],
   "source": [
    "ppl = Pipeline([\n",
    "    ('vect', CountVectorizer()),\n",
    "    ('tfidf', TfidfTransformer()),\n",
    "    ('Logistic Regression', LogisticRegression()),\n",
    "])"
   ]
  },
  {
   "cell_type": "code",
   "execution_count": 143,
   "id": "55e7f732-423d-4f70-b4ff-6787b41e2e6d",
   "metadata": {},
   "outputs": [
    {
     "name": "stdout",
     "output_type": "stream",
     "text": [
      "CPU times: total: 42.2 s\n",
      "Wall time: 25.2 s\n"
     ]
    },
    {
     "data": {
      "text/html": [
       "<style>#sk-container-id-6 {\n",
       "  /* Definition of color scheme common for light and dark mode */\n",
       "  --sklearn-color-text: black;\n",
       "  --sklearn-color-line: gray;\n",
       "  /* Definition of color scheme for unfitted estimators */\n",
       "  --sklearn-color-unfitted-level-0: #fff5e6;\n",
       "  --sklearn-color-unfitted-level-1: #f6e4d2;\n",
       "  --sklearn-color-unfitted-level-2: #ffe0b3;\n",
       "  --sklearn-color-unfitted-level-3: chocolate;\n",
       "  /* Definition of color scheme for fitted estimators */\n",
       "  --sklearn-color-fitted-level-0: #f0f8ff;\n",
       "  --sklearn-color-fitted-level-1: #d4ebff;\n",
       "  --sklearn-color-fitted-level-2: #b3dbfd;\n",
       "  --sklearn-color-fitted-level-3: cornflowerblue;\n",
       "\n",
       "  /* Specific color for light theme */\n",
       "  --sklearn-color-text-on-default-background: var(--sg-text-color, var(--theme-code-foreground, var(--jp-content-font-color1, black)));\n",
       "  --sklearn-color-background: var(--sg-background-color, var(--theme-background, var(--jp-layout-color0, white)));\n",
       "  --sklearn-color-border-box: var(--sg-text-color, var(--theme-code-foreground, var(--jp-content-font-color1, black)));\n",
       "  --sklearn-color-icon: #696969;\n",
       "\n",
       "  @media (prefers-color-scheme: dark) {\n",
       "    /* Redefinition of color scheme for dark theme */\n",
       "    --sklearn-color-text-on-default-background: var(--sg-text-color, var(--theme-code-foreground, var(--jp-content-font-color1, white)));\n",
       "    --sklearn-color-background: var(--sg-background-color, var(--theme-background, var(--jp-layout-color0, #111)));\n",
       "    --sklearn-color-border-box: var(--sg-text-color, var(--theme-code-foreground, var(--jp-content-font-color1, white)));\n",
       "    --sklearn-color-icon: #878787;\n",
       "  }\n",
       "}\n",
       "\n",
       "#sk-container-id-6 {\n",
       "  color: var(--sklearn-color-text);\n",
       "}\n",
       "\n",
       "#sk-container-id-6 pre {\n",
       "  padding: 0;\n",
       "}\n",
       "\n",
       "#sk-container-id-6 input.sk-hidden--visually {\n",
       "  border: 0;\n",
       "  clip: rect(1px 1px 1px 1px);\n",
       "  clip: rect(1px, 1px, 1px, 1px);\n",
       "  height: 1px;\n",
       "  margin: -1px;\n",
       "  overflow: hidden;\n",
       "  padding: 0;\n",
       "  position: absolute;\n",
       "  width: 1px;\n",
       "}\n",
       "\n",
       "#sk-container-id-6 div.sk-dashed-wrapped {\n",
       "  border: 1px dashed var(--sklearn-color-line);\n",
       "  margin: 0 0.4em 0.5em 0.4em;\n",
       "  box-sizing: border-box;\n",
       "  padding-bottom: 0.4em;\n",
       "  background-color: var(--sklearn-color-background);\n",
       "}\n",
       "\n",
       "#sk-container-id-6 div.sk-container {\n",
       "  /* jupyter's `normalize.less` sets `[hidden] { display: none; }`\n",
       "     but bootstrap.min.css set `[hidden] { display: none !important; }`\n",
       "     so we also need the `!important` here to be able to override the\n",
       "     default hidden behavior on the sphinx rendered scikit-learn.org.\n",
       "     See: https://github.com/scikit-learn/scikit-learn/issues/21755 */\n",
       "  display: inline-block !important;\n",
       "  position: relative;\n",
       "}\n",
       "\n",
       "#sk-container-id-6 div.sk-text-repr-fallback {\n",
       "  display: none;\n",
       "}\n",
       "\n",
       "div.sk-parallel-item,\n",
       "div.sk-serial,\n",
       "div.sk-item {\n",
       "  /* draw centered vertical line to link estimators */\n",
       "  background-image: linear-gradient(var(--sklearn-color-text-on-default-background), var(--sklearn-color-text-on-default-background));\n",
       "  background-size: 2px 100%;\n",
       "  background-repeat: no-repeat;\n",
       "  background-position: center center;\n",
       "}\n",
       "\n",
       "/* Parallel-specific style estimator block */\n",
       "\n",
       "#sk-container-id-6 div.sk-parallel-item::after {\n",
       "  content: \"\";\n",
       "  width: 100%;\n",
       "  border-bottom: 2px solid var(--sklearn-color-text-on-default-background);\n",
       "  flex-grow: 1;\n",
       "}\n",
       "\n",
       "#sk-container-id-6 div.sk-parallel {\n",
       "  display: flex;\n",
       "  align-items: stretch;\n",
       "  justify-content: center;\n",
       "  background-color: var(--sklearn-color-background);\n",
       "  position: relative;\n",
       "}\n",
       "\n",
       "#sk-container-id-6 div.sk-parallel-item {\n",
       "  display: flex;\n",
       "  flex-direction: column;\n",
       "}\n",
       "\n",
       "#sk-container-id-6 div.sk-parallel-item:first-child::after {\n",
       "  align-self: flex-end;\n",
       "  width: 50%;\n",
       "}\n",
       "\n",
       "#sk-container-id-6 div.sk-parallel-item:last-child::after {\n",
       "  align-self: flex-start;\n",
       "  width: 50%;\n",
       "}\n",
       "\n",
       "#sk-container-id-6 div.sk-parallel-item:only-child::after {\n",
       "  width: 0;\n",
       "}\n",
       "\n",
       "/* Serial-specific style estimator block */\n",
       "\n",
       "#sk-container-id-6 div.sk-serial {\n",
       "  display: flex;\n",
       "  flex-direction: column;\n",
       "  align-items: center;\n",
       "  background-color: var(--sklearn-color-background);\n",
       "  padding-right: 1em;\n",
       "  padding-left: 1em;\n",
       "}\n",
       "\n",
       "\n",
       "/* Toggleable style: style used for estimator/Pipeline/ColumnTransformer box that is\n",
       "clickable and can be expanded/collapsed.\n",
       "- Pipeline and ColumnTransformer use this feature and define the default style\n",
       "- Estimators will overwrite some part of the style using the `sk-estimator` class\n",
       "*/\n",
       "\n",
       "/* Pipeline and ColumnTransformer style (default) */\n",
       "\n",
       "#sk-container-id-6 div.sk-toggleable {\n",
       "  /* Default theme specific background. It is overwritten whether we have a\n",
       "  specific estimator or a Pipeline/ColumnTransformer */\n",
       "  background-color: var(--sklearn-color-background);\n",
       "}\n",
       "\n",
       "/* Toggleable label */\n",
       "#sk-container-id-6 label.sk-toggleable__label {\n",
       "  cursor: pointer;\n",
       "  display: block;\n",
       "  width: 100%;\n",
       "  margin-bottom: 0;\n",
       "  padding: 0.5em;\n",
       "  box-sizing: border-box;\n",
       "  text-align: center;\n",
       "}\n",
       "\n",
       "#sk-container-id-6 label.sk-toggleable__label-arrow:before {\n",
       "  /* Arrow on the left of the label */\n",
       "  content: \"▸\";\n",
       "  float: left;\n",
       "  margin-right: 0.25em;\n",
       "  color: var(--sklearn-color-icon);\n",
       "}\n",
       "\n",
       "#sk-container-id-6 label.sk-toggleable__label-arrow:hover:before {\n",
       "  color: var(--sklearn-color-text);\n",
       "}\n",
       "\n",
       "/* Toggleable content - dropdown */\n",
       "\n",
       "#sk-container-id-6 div.sk-toggleable__content {\n",
       "  max-height: 0;\n",
       "  max-width: 0;\n",
       "  overflow: hidden;\n",
       "  text-align: left;\n",
       "  /* unfitted */\n",
       "  background-color: var(--sklearn-color-unfitted-level-0);\n",
       "}\n",
       "\n",
       "#sk-container-id-6 div.sk-toggleable__content.fitted {\n",
       "  /* fitted */\n",
       "  background-color: var(--sklearn-color-fitted-level-0);\n",
       "}\n",
       "\n",
       "#sk-container-id-6 div.sk-toggleable__content pre {\n",
       "  margin: 0.2em;\n",
       "  border-radius: 0.25em;\n",
       "  color: var(--sklearn-color-text);\n",
       "  /* unfitted */\n",
       "  background-color: var(--sklearn-color-unfitted-level-0);\n",
       "}\n",
       "\n",
       "#sk-container-id-6 div.sk-toggleable__content.fitted pre {\n",
       "  /* unfitted */\n",
       "  background-color: var(--sklearn-color-fitted-level-0);\n",
       "}\n",
       "\n",
       "#sk-container-id-6 input.sk-toggleable__control:checked~div.sk-toggleable__content {\n",
       "  /* Expand drop-down */\n",
       "  max-height: 200px;\n",
       "  max-width: 100%;\n",
       "  overflow: auto;\n",
       "}\n",
       "\n",
       "#sk-container-id-6 input.sk-toggleable__control:checked~label.sk-toggleable__label-arrow:before {\n",
       "  content: \"▾\";\n",
       "}\n",
       "\n",
       "/* Pipeline/ColumnTransformer-specific style */\n",
       "\n",
       "#sk-container-id-6 div.sk-label input.sk-toggleable__control:checked~label.sk-toggleable__label {\n",
       "  color: var(--sklearn-color-text);\n",
       "  background-color: var(--sklearn-color-unfitted-level-2);\n",
       "}\n",
       "\n",
       "#sk-container-id-6 div.sk-label.fitted input.sk-toggleable__control:checked~label.sk-toggleable__label {\n",
       "  background-color: var(--sklearn-color-fitted-level-2);\n",
       "}\n",
       "\n",
       "/* Estimator-specific style */\n",
       "\n",
       "/* Colorize estimator box */\n",
       "#sk-container-id-6 div.sk-estimator input.sk-toggleable__control:checked~label.sk-toggleable__label {\n",
       "  /* unfitted */\n",
       "  background-color: var(--sklearn-color-unfitted-level-2);\n",
       "}\n",
       "\n",
       "#sk-container-id-6 div.sk-estimator.fitted input.sk-toggleable__control:checked~label.sk-toggleable__label {\n",
       "  /* fitted */\n",
       "  background-color: var(--sklearn-color-fitted-level-2);\n",
       "}\n",
       "\n",
       "#sk-container-id-6 div.sk-label label.sk-toggleable__label,\n",
       "#sk-container-id-6 div.sk-label label {\n",
       "  /* The background is the default theme color */\n",
       "  color: var(--sklearn-color-text-on-default-background);\n",
       "}\n",
       "\n",
       "/* On hover, darken the color of the background */\n",
       "#sk-container-id-6 div.sk-label:hover label.sk-toggleable__label {\n",
       "  color: var(--sklearn-color-text);\n",
       "  background-color: var(--sklearn-color-unfitted-level-2);\n",
       "}\n",
       "\n",
       "/* Label box, darken color on hover, fitted */\n",
       "#sk-container-id-6 div.sk-label.fitted:hover label.sk-toggleable__label.fitted {\n",
       "  color: var(--sklearn-color-text);\n",
       "  background-color: var(--sklearn-color-fitted-level-2);\n",
       "}\n",
       "\n",
       "/* Estimator label */\n",
       "\n",
       "#sk-container-id-6 div.sk-label label {\n",
       "  font-family: monospace;\n",
       "  font-weight: bold;\n",
       "  display: inline-block;\n",
       "  line-height: 1.2em;\n",
       "}\n",
       "\n",
       "#sk-container-id-6 div.sk-label-container {\n",
       "  text-align: center;\n",
       "}\n",
       "\n",
       "/* Estimator-specific */\n",
       "#sk-container-id-6 div.sk-estimator {\n",
       "  font-family: monospace;\n",
       "  border: 1px dotted var(--sklearn-color-border-box);\n",
       "  border-radius: 0.25em;\n",
       "  box-sizing: border-box;\n",
       "  margin-bottom: 0.5em;\n",
       "  /* unfitted */\n",
       "  background-color: var(--sklearn-color-unfitted-level-0);\n",
       "}\n",
       "\n",
       "#sk-container-id-6 div.sk-estimator.fitted {\n",
       "  /* fitted */\n",
       "  background-color: var(--sklearn-color-fitted-level-0);\n",
       "}\n",
       "\n",
       "/* on hover */\n",
       "#sk-container-id-6 div.sk-estimator:hover {\n",
       "  /* unfitted */\n",
       "  background-color: var(--sklearn-color-unfitted-level-2);\n",
       "}\n",
       "\n",
       "#sk-container-id-6 div.sk-estimator.fitted:hover {\n",
       "  /* fitted */\n",
       "  background-color: var(--sklearn-color-fitted-level-2);\n",
       "}\n",
       "\n",
       "/* Specification for estimator info (e.g. \"i\" and \"?\") */\n",
       "\n",
       "/* Common style for \"i\" and \"?\" */\n",
       "\n",
       ".sk-estimator-doc-link,\n",
       "a:link.sk-estimator-doc-link,\n",
       "a:visited.sk-estimator-doc-link {\n",
       "  float: right;\n",
       "  font-size: smaller;\n",
       "  line-height: 1em;\n",
       "  font-family: monospace;\n",
       "  background-color: var(--sklearn-color-background);\n",
       "  border-radius: 1em;\n",
       "  height: 1em;\n",
       "  width: 1em;\n",
       "  text-decoration: none !important;\n",
       "  margin-left: 1ex;\n",
       "  /* unfitted */\n",
       "  border: var(--sklearn-color-unfitted-level-1) 1pt solid;\n",
       "  color: var(--sklearn-color-unfitted-level-1);\n",
       "}\n",
       "\n",
       ".sk-estimator-doc-link.fitted,\n",
       "a:link.sk-estimator-doc-link.fitted,\n",
       "a:visited.sk-estimator-doc-link.fitted {\n",
       "  /* fitted */\n",
       "  border: var(--sklearn-color-fitted-level-1) 1pt solid;\n",
       "  color: var(--sklearn-color-fitted-level-1);\n",
       "}\n",
       "\n",
       "/* On hover */\n",
       "div.sk-estimator:hover .sk-estimator-doc-link:hover,\n",
       ".sk-estimator-doc-link:hover,\n",
       "div.sk-label-container:hover .sk-estimator-doc-link:hover,\n",
       ".sk-estimator-doc-link:hover {\n",
       "  /* unfitted */\n",
       "  background-color: var(--sklearn-color-unfitted-level-3);\n",
       "  color: var(--sklearn-color-background);\n",
       "  text-decoration: none;\n",
       "}\n",
       "\n",
       "div.sk-estimator.fitted:hover .sk-estimator-doc-link.fitted:hover,\n",
       ".sk-estimator-doc-link.fitted:hover,\n",
       "div.sk-label-container:hover .sk-estimator-doc-link.fitted:hover,\n",
       ".sk-estimator-doc-link.fitted:hover {\n",
       "  /* fitted */\n",
       "  background-color: var(--sklearn-color-fitted-level-3);\n",
       "  color: var(--sklearn-color-background);\n",
       "  text-decoration: none;\n",
       "}\n",
       "\n",
       "/* Span, style for the box shown on hovering the info icon */\n",
       ".sk-estimator-doc-link span {\n",
       "  display: none;\n",
       "  z-index: 9999;\n",
       "  position: relative;\n",
       "  font-weight: normal;\n",
       "  right: .2ex;\n",
       "  padding: .5ex;\n",
       "  margin: .5ex;\n",
       "  width: min-content;\n",
       "  min-width: 20ex;\n",
       "  max-width: 50ex;\n",
       "  color: var(--sklearn-color-text);\n",
       "  box-shadow: 2pt 2pt 4pt #999;\n",
       "  /* unfitted */\n",
       "  background: var(--sklearn-color-unfitted-level-0);\n",
       "  border: .5pt solid var(--sklearn-color-unfitted-level-3);\n",
       "}\n",
       "\n",
       ".sk-estimator-doc-link.fitted span {\n",
       "  /* fitted */\n",
       "  background: var(--sklearn-color-fitted-level-0);\n",
       "  border: var(--sklearn-color-fitted-level-3);\n",
       "}\n",
       "\n",
       ".sk-estimator-doc-link:hover span {\n",
       "  display: block;\n",
       "}\n",
       "\n",
       "/* \"?\"-specific style due to the `<a>` HTML tag */\n",
       "\n",
       "#sk-container-id-6 a.estimator_doc_link {\n",
       "  float: right;\n",
       "  font-size: 1rem;\n",
       "  line-height: 1em;\n",
       "  font-family: monospace;\n",
       "  background-color: var(--sklearn-color-background);\n",
       "  border-radius: 1rem;\n",
       "  height: 1rem;\n",
       "  width: 1rem;\n",
       "  text-decoration: none;\n",
       "  /* unfitted */\n",
       "  color: var(--sklearn-color-unfitted-level-1);\n",
       "  border: var(--sklearn-color-unfitted-level-1) 1pt solid;\n",
       "}\n",
       "\n",
       "#sk-container-id-6 a.estimator_doc_link.fitted {\n",
       "  /* fitted */\n",
       "  border: var(--sklearn-color-fitted-level-1) 1pt solid;\n",
       "  color: var(--sklearn-color-fitted-level-1);\n",
       "}\n",
       "\n",
       "/* On hover */\n",
       "#sk-container-id-6 a.estimator_doc_link:hover {\n",
       "  /* unfitted */\n",
       "  background-color: var(--sklearn-color-unfitted-level-3);\n",
       "  color: var(--sklearn-color-background);\n",
       "  text-decoration: none;\n",
       "}\n",
       "\n",
       "#sk-container-id-6 a.estimator_doc_link.fitted:hover {\n",
       "  /* fitted */\n",
       "  background-color: var(--sklearn-color-fitted-level-3);\n",
       "}\n",
       "</style><div id=\"sk-container-id-6\" class=\"sk-top-container\"><div class=\"sk-text-repr-fallback\"><pre>Pipeline(steps=[(&#x27;vect&#x27;, CountVectorizer()), (&#x27;tfidf&#x27;, TfidfTransformer()),\n",
       "                (&#x27;Logistic Regression&#x27;, LogisticRegression())])</pre><b>In a Jupyter environment, please rerun this cell to show the HTML representation or trust the notebook. <br />On GitHub, the HTML representation is unable to render, please try loading this page with nbviewer.org.</b></div><div class=\"sk-container\" hidden><div class=\"sk-item sk-dashed-wrapped\"><div class=\"sk-label-container\"><div class=\"sk-label fitted sk-toggleable\"><input class=\"sk-toggleable__control sk-hidden--visually\" id=\"sk-estimator-id-21\" type=\"checkbox\" ><label for=\"sk-estimator-id-21\" class=\"sk-toggleable__label fitted sk-toggleable__label-arrow fitted\">&nbsp;&nbsp;Pipeline<a class=\"sk-estimator-doc-link fitted\" rel=\"noreferrer\" target=\"_blank\" href=\"https://scikit-learn.org/1.4/modules/generated/sklearn.pipeline.Pipeline.html\">?<span>Documentation for Pipeline</span></a><span class=\"sk-estimator-doc-link fitted\">i<span>Fitted</span></span></label><div class=\"sk-toggleable__content fitted\"><pre>Pipeline(steps=[(&#x27;vect&#x27;, CountVectorizer()), (&#x27;tfidf&#x27;, TfidfTransformer()),\n",
       "                (&#x27;Logistic Regression&#x27;, LogisticRegression())])</pre></div> </div></div><div class=\"sk-serial\"><div class=\"sk-item\"><div class=\"sk-estimator fitted sk-toggleable\"><input class=\"sk-toggleable__control sk-hidden--visually\" id=\"sk-estimator-id-22\" type=\"checkbox\" ><label for=\"sk-estimator-id-22\" class=\"sk-toggleable__label fitted sk-toggleable__label-arrow fitted\">&nbsp;CountVectorizer<a class=\"sk-estimator-doc-link fitted\" rel=\"noreferrer\" target=\"_blank\" href=\"https://scikit-learn.org/1.4/modules/generated/sklearn.feature_extraction.text.CountVectorizer.html\">?<span>Documentation for CountVectorizer</span></a></label><div class=\"sk-toggleable__content fitted\"><pre>CountVectorizer()</pre></div> </div></div><div class=\"sk-item\"><div class=\"sk-estimator fitted sk-toggleable\"><input class=\"sk-toggleable__control sk-hidden--visually\" id=\"sk-estimator-id-23\" type=\"checkbox\" ><label for=\"sk-estimator-id-23\" class=\"sk-toggleable__label fitted sk-toggleable__label-arrow fitted\">&nbsp;TfidfTransformer<a class=\"sk-estimator-doc-link fitted\" rel=\"noreferrer\" target=\"_blank\" href=\"https://scikit-learn.org/1.4/modules/generated/sklearn.feature_extraction.text.TfidfTransformer.html\">?<span>Documentation for TfidfTransformer</span></a></label><div class=\"sk-toggleable__content fitted\"><pre>TfidfTransformer()</pre></div> </div></div><div class=\"sk-item\"><div class=\"sk-estimator fitted sk-toggleable\"><input class=\"sk-toggleable__control sk-hidden--visually\" id=\"sk-estimator-id-24\" type=\"checkbox\" ><label for=\"sk-estimator-id-24\" class=\"sk-toggleable__label fitted sk-toggleable__label-arrow fitted\">&nbsp;LogisticRegression<a class=\"sk-estimator-doc-link fitted\" rel=\"noreferrer\" target=\"_blank\" href=\"https://scikit-learn.org/1.4/modules/generated/sklearn.linear_model.LogisticRegression.html\">?<span>Documentation for LogisticRegression</span></a></label><div class=\"sk-toggleable__content fitted\"><pre>LogisticRegression()</pre></div> </div></div></div></div></div></div>"
      ],
      "text/plain": [
       "Pipeline(steps=[('vect', CountVectorizer()), ('tfidf', TfidfTransformer()),\n",
       "                ('Logistic Regression', LogisticRegression())])"
      ]
     },
     "execution_count": 143,
     "metadata": {},
     "output_type": "execute_result"
    }
   ],
   "source": [
    "%%time\n",
    "ppl.fit(X_train, y_train)"
   ]
  },
  {
   "cell_type": "code",
   "execution_count": null,
   "id": "004e8021-0281-4b08-8054-a8086ef7ff3e",
   "metadata": {},
   "outputs": [],
   "source": [
    "import pickle\n",
    "\n",
    "#save model\n",
    "with open('model.pkl', 'wb') as file:\n",
    "    pickle.dump(ppl, file)\n"
   ]
  },
  {
   "cell_type": "markdown",
   "id": "7febbe9e-3704-40f5-aecc-37c17424be37",
   "metadata": {},
   "source": [
    "# Testing the model"
   ]
  },
  {
   "cell_type": "code",
   "execution_count": 107,
   "id": "5a287c9b-d710-4474-bbca-d6c67e1cd85b",
   "metadata": {},
   "outputs": [],
   "source": [
    "y_pred=ppl.predict(X_test)"
   ]
  },
  {
   "cell_type": "code",
   "execution_count": 108,
   "id": "77f6839a-8874-4e9f-a95a-ae42610afa2c",
   "metadata": {},
   "outputs": [
    {
     "name": "stdout",
     "output_type": "stream",
     "text": [
      "accuracy 0.746974697469747\n",
      "              precision    recall  f1-score   support\n",
      "\n",
      "   performer       0.63      0.54      0.58       912\n",
      "      sports       0.67      0.74      0.70       932\n",
      "     creator       0.86      0.87      0.86       899\n",
      "    politics       0.83      0.85      0.84       893\n",
      "\n",
      "    accuracy                           0.75      3636\n",
      "   macro avg       0.75      0.75      0.75      3636\n",
      "weighted avg       0.74      0.75      0.74      3636\n",
      "\n"
     ]
    }
   ],
   "source": [
    "from sklearn.metrics import accuracy_score\n",
    "from sklearn.metrics import classification_report\n",
    "\n",
    "print('accuracy %s' % accuracy_score(y_pred, y_test))\n",
    "print(classification_report(y_test, y_pred, target_names=set(y_pred)))"
   ]
  },
  {
   "cell_type": "code",
   "execution_count": 109,
   "id": "81d772d9-2d4c-4097-a100-06fad5eb65e1",
   "metadata": {},
   "outputs": [
    {
     "data": {
      "image/png": "[encoded data removed]",
      "text/plain": [
       "<Figure size 800x800 with 1 Axes>"
      ]
     },
     "metadata": {},
     "output_type": "display_data"
    }
   ],
   "source": [
    "import matplotlib.pyplot as plt\n",
    "import seaborn as sns\n",
    "from sklearn.metrics import confusion_matrix\n",
    "\n",
    "y_true = y_test\n",
    "\n",
    "conf_matrix = confusion_matrix(y_true, y_pred)\n",
    "\n",
    "sns.set(font_scale=1.2)  \n",
    "\n",
    "sns.heatmap(conf_matrix, annot=True, cmap='Blues', fmt='g', annot_kws={\"size\": 12}, cbar=False)\n",
    "\n",
    "plt.xlabel('Predicted labels')\n",
    "plt.ylabel('True labels')\n",
    "plt.title('Confusion Matrix')\n",
    "plt.xticks(ticks=np.arange(len(set(y_true))) + 0.5, labels=set(y_true), ha='center')\n",
    "plt.yticks(ticks=np.arange(len(set(y_true))) + 0.5, labels=set(y_true), va='center')\n",
    "\n",
    "plt.show()\n"
   ]
  },
  {
   "cell_type": "markdown",
   "id": "b66338e2-ddac-4afa-a540-5b24b98ec9e6",
   "metadata": {},
   "source": [
    "# HOW TO USE SAVED MODEL"
   ]
  },
  {
   "cell_type": "code",
   "execution_count": 145,
   "id": "938623ed-c59a-41d8-a1eb-824587288137",
   "metadata": {},
   "outputs": [],
   "source": [
    "import pickle\n",
    "\n",
    "with open('model.pkl', 'rb') as f:\n",
    "    model = pickle.load(f)"
   ]
  },
  {
   "cell_type": "code",
   "execution_count": 152,
   "id": "0a74a9b7-9990-491f-8b7b-6e0481cf4210",
   "metadata": {},
   "outputs": [],
   "source": [
    "predictions = model.predict(X_test)\n"
   ]
  },
  {
   "cell_type": "code",
   "execution_count": 154,
   "id": "2c4061d9-7bdb-4b5d-851b-c84e53ccf59e",
   "metadata": {},
   "outputs": [
    {
     "name": "stdout",
     "output_type": "stream",
     "text": [
      "accuracy 0.7608264930653835\n",
      "              precision    recall  f1-score   support\n",
      "\n",
      "   performer       0.65      0.58      0.61       889\n",
      "    politics       0.70      0.74      0.72       910\n",
      "     creator       0.86      0.87      0.86       889\n",
      "      sports       0.82      0.86      0.84       845\n",
      "\n",
      "    accuracy                           0.76      3533\n",
      "   macro avg       0.76      0.76      0.76      3533\n",
      "weighted avg       0.76      0.76      0.76      3533\n",
      "\n"
     ]
    }
   ],
   "source": [
    "from sklearn.metrics import accuracy_score\n",
    "from sklearn.metrics import classification_report\n",
    "\n",
    "print('accuracy %s' % accuracy_score(predictions, y_test))\n",
    "print(classification_report(y_test, predictions, target_names=set(predictions)))"
   ]
  }
 ],
 "metadata": {
  "kernelspec": {
   "display_name": "Python 3 (ipykernel)",
   "language": "python",
   "name": "python3"
  },
  "language_info": {
   "codemirror_mode": {
    "name": "ipython",
    "version": 3
   },
   "file_extension": ".py",
   "mimetype": "text/x-python",
   "name": "python",
   "nbconvert_exporter": "python",
   "pygments_lexer": "ipython3",
   "version": "3.10.9"
  }
 },
 "nbformat": 4,
 "nbformat_minor": 5
}
